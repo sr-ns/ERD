{
    "metadata": {
        "kernelspec": {
            "name": "SQL",
            "display_name": "SQL",
            "language": "sql"
        },
        "language_info": {
            "name": "sql",
            "version": ""
        }
    },
    "nbformat_minor": 2,
    "nbformat": 4,
    "cells": [
        {
            "cell_type": "markdown",
            "source": [
                "# Simple Data Mart Analysis\n",
                "\n",
                "... about two or three paragraphs explaining my project...\n",
                "\n",
                "## Data Sources\n",
                "\n",
                "provide information about source of data put a link to my data somewhere\n",
                "\n",
                "add ERDs somewhere\n",
                "\n",
                "## Steps to Mart Creation\n",
                "\n",
                "- Schema Creation\n",
                "    - stage\n",
                "    - fact\n",
                "    - dimension\n",
                "\n",
                "Hand-copied\n",
                "\n",
                "\\`\\`\\`sql /_********************************************************/ /****************** Schema DDL ******************/ /********************************************************_/\n",
                "\n",
                "IF NOT EXISTS (SELECT \\* FROM sys.schemas WHERE name = 'dim' ) BEGIN EXEC sp\\_executesql N'CREATE SCHEMA dim AUTHORIZATION dbo;' END ;\n",
                "\n",
                "GO\n",
                "\n",
                "IF NOT EXISTS (SELECT \\* FROM sys.schemas WHERE name = 'stg' ) BEGIN EXEC sp\\_executesql N'CREATE SCHEMA stg AUTHORIZATION dbo;' END ;\n",
                "\n",
                "GO\n",
                "\n",
                "IF NOT EXISTS (SELECT \\* FROM sys.schemas WHERE name = 'f' ) BEGIN EXEC sp\\_executesql N'CREATE SCHEMA f AUTHORIZATION dbo;' END ;\n",
                "\n",
                "GO\\`\\`\\`\n",
                "\n",
                "## Simple Dimension Creation\n",
                "\n",
                "- Tables creation\n",
                "    - dim.employees\n",
                "    - dim 2\n",
                "    - dim 3\n",
                "\n",
                "\\-- continue with"
            ],
            "metadata": {
                "azdata_cell_guid": "f1270f84-3cbf-422d-bb24-466015423a54"
            },
            "attachments": {}
        },
        {
            "cell_type": "code",
            "source": [
                "/*********************************************************/\r\n",
                "/******************    Schema DDL       ******************/\r\n",
                "/*********************************************************/\r\n",
                "\r\n",
                "IF NOT EXISTS (SELECT * FROM sys.schemas WHERE name = 'dim' ) \r\n",
                "BEGIN\r\n",
                "\tEXEC sp_executesql N'CREATE SCHEMA dim AUTHORIZATION dbo;'\r\n",
                "END\r\n",
                ";\r\n",
                "\r\n",
                "GO\r\n",
                "\r\n",
                "IF NOT EXISTS (SELECT * FROM sys.schemas WHERE name = 'stg' ) \r\n",
                "BEGIN\r\n",
                "\tEXEC sp_executesql N'CREATE SCHEMA stg AUTHORIZATION dbo;'\r\n",
                "END\r\n",
                ";\r\n",
                "\r\n",
                "GO\r\n",
                "\r\n",
                "IF NOT EXISTS (SELECT * FROM sys.schemas WHERE name = 'f' ) \r\n",
                "BEGIN\r\n",
                "\tEXEC sp_executesql N'CREATE SCHEMA f AUTHORIZATION dbo;'\r\n",
                "END\r\n",
                ";\r\n",
                "\r\n",
                "GO"
            ],
            "metadata": {
                "azdata_cell_guid": "0972e0e4-02f3-43bf-b532-6eab4cd00468",
                "language": "sql"
            },
            "outputs": [],
            "execution_count": null
        }
    ]
}